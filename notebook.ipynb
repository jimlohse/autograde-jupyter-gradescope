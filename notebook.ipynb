{
 "cells": [
  {
   "cell_type": "markdown",
   "metadata": {},
   "source": [
    "Cryptography and Hashing Project\n",
    "\n",
    "There is no required textbook, references are provided as a convenience.\n",
    "\n",
    "Crypto and hashing are hard. We'll take it step by step.\n",
    "\n",
    "First, let's get some imports out of the way and explore Base 64 encoding...\n"
   ]
  },
  {
   "cell_type": "code",
   "execution_count": 15,
   "metadata": {},
   "outputs": [],
   "source": [
    "import sys\n",
    "import base64\n",
    "import hashlib\n",
    "import random\n",
    "\n",
    "def startup():\n",
    "    # Create a message, don't change this:\n",
    "\n",
    "    m_bytes = \"You make good coffee, at least?\".encode()\n",
    "    # same as using b in front of string: \n",
    "    # m_bytes = b'some random string'\n",
    "\n",
    "    # a random n\n",
    "\n",
    "    n = '321298129599065119923288584714731926410'\n",
    "\n",
    "    # ! Don't change anything above this line !\n"
   ]
  },
  {
   "cell_type": "code",
   "execution_count": 18,
   "metadata": {},
   "outputs": [
    {
     "name": "stdout",
     "output_type": "stream",
     "text": [
      "0\n"
     ]
    }
   ],
   "source": [
    "\n",
    "# Create a positive 64 bit number at random\n",
    "\n",
    "def task_1_1():\n",
    "\n",
    "    student_n = 0\n",
    "\n",
    "    return student_n\n",
    "\n",
    "    # print(task_1_1())\n"
   ]
  },
  {
   "cell_type": "code",
   "execution_count": 14,
   "metadata": {},
   "outputs": [
    {
     "data": {
      "text/plain": [
       "b'WW91IG1ha2UgZ29vZCBjb2ZmZWUsIGF0IGxlYXN0Pw=='"
      ]
     },
     "execution_count": 14,
     "metadata": {},
     "output_type": "execute_result"
    }
   ],
   "source": [
    "# next let's learn about encoding messages\n",
    "\n",
    "# here's the docs about Python encoding\n",
    "\n",
    "# base 64 encode the message:\n",
    "\n",
    "def task_1_2():\n",
    "    \n",
    "    base_64_message = base64.b64encode(m)\n",
    "\n",
    "    base_64_message\n",
    "\n",
    "    return x"
   ]
  },
  {
   "cell_type": "code",
   "execution_count": 12,
   "metadata": {},
   "outputs": [
    {
     "name": "stdout",
     "output_type": "stream",
     "text": [
      "28ac2fe1a698965127cc80c2681dc89c10d76e7d017f23f8068d25553f23adba\n"
     ]
    }
   ],
   "source": [
    "def task_1_3(self):\n",
    "    \n",
    "    # Next we'll hash a message\n",
    "    hashed_message = hashlib.sha256(m)\n",
    "    hex_digest = hashed_message.hexdigest()\n",
    "    print(hex_digest)"
   ]
  },
  {
   "cell_type": "markdown",
   "metadata": {},
   "source": [
    "Let's talk about symmetric encryption and its history. Until the 1970's, all encryption was symmetric. This means a key had to be shared between between the sender and the recipient. Breaking these keys has made for several interesting stories in history, such as the Code Talkers from WWII or ciphers from the time of Caesar. (Stallings, page 31)\n",
    "\n",
    "Let's look at some symmetric encryption exercises, here's how you do "
   ]
  },
  {
   "cell_type": "code",
   "execution_count": 22,
   "metadata": {},
   "outputs": [
    {
     "name": "stdout",
     "output_type": "stream",
     "text": [
      "b'gAAAAABi1K72RMMnEMpOOVo6U3Q1BOExPsjszwnyfst0AxaCk7xIFtcc0sR95MVd32V1XcUi9JCWRNqzCfErvgRpeFTFYz05SM4gZHSYpGEBQBnKuB3Iq90='\n"
     ]
    },
    {
     "data": {
      "text/plain": [
       "b'You make good coffee, at least?'"
      ]
     },
     "execution_count": 22,
     "metadata": {},
     "output_type": "execute_result"
    }
   ],
   "source": [
    "# from cryptography.fernet import Fernet\n",
    "\n",
    "# key = Fernet.generate_key()\n",
    "\n",
    "# f = Fernet(key)\n",
    "\n",
    "# token = f.encrypt(m)\n",
    "\n",
    "# print(token)\n",
    "\n",
    "# f.decrypt(token)"
   ]
  },
  {
   "cell_type": "markdown",
   "metadata": {},
   "source": [
    "Now let's look at public-key encryption. Despite common misconceptions, it's not inherently more secure than symmetric encryption. It's equally as important as symmetric encryption and represents a major advance in encryption in 2000 years. For public-key encryption, there are separate keys for the sender and recipient. There is a public key and a private key. If the sender encrypts a message with a private key, anyone with the public key can read it and know it came from the sender. Similarly, if you give out your public key, anyone can encrypt a message and know that only you can read it.\n",
    "\n",
    "According to the somewhat outdated Stallings textbook, a 1024-bit key was sufficient(Stallings, page 49), but the man page for ssh-keygen says a 3072-bit key is desired. The book talks about Elliptic Curve DSA as gaining traction, though it doesn't have the research behind it that RSA does.\n",
    "\n",
    "Let's do some RSA exercises:\n",
    "\n",
    "Suppose you are given a message and a set of keys. Show how to encrypt and decrypt the message using the keys in both modes described above."
   ]
  },
  {
   "cell_type": "code",
   "execution_count": null,
   "metadata": {},
   "outputs": [],
   "source": [
    "from cryptography.hazmat.primitives.asymmetric import rsa\n",
    "\n",
    "def some_func():\n",
    "\n",
    "    m = b\"He\\'s whittlin\\' on a piece of wood. I\\'ve got a feeling when he stops whittlin\\'... Somethin's gonna happen.\"\n",
    "\n",
    "    # make a public key\n",
    "\n",
    "    public_key = 0\n",
    "\n",
    "    # remember the "
   ]
  }
 ],
 "metadata": {
  "kernelspec": {
   "display_name": "Python 3.8.10 64-bit",
   "language": "python",
   "name": "python3"
  },
  "language_info": {
   "codemirror_mode": {
    "name": "ipython",
    "version": 3
   },
   "file_extension": ".py",
   "mimetype": "text/x-python",
   "name": "python",
   "nbconvert_exporter": "python",
   "pygments_lexer": "ipython3",
   "version": "3.8.10"
  },
  "orig_nbformat": 4,
  "vscode": {
   "interpreter": {
    "hash": "916dbcbb3f70747c44a77c7bcd40155683ae19c65e1c03b4aa3499c5328201f1"
   }
  }
 },
 "nbformat": 4,
 "nbformat_minor": 2
}
